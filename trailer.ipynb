{
  "nbformat": 4,
  "nbformat_minor": 0,
  "metadata": {
    "colab": {
      "provenance": []
    },
    "kernelspec": {
      "name": "python3",
      "display_name": "Python 3"
    },
    "language_info": {
      "name": "python"
    }
  },
  "cells": [
    {
      "cell_type": "code",
      "execution_count": 1,
      "metadata": {
        "colab": {
          "base_uri": "https://localhost:8080/"
        },
        "id": "KpA2wP9Z3X9B",
        "outputId": "4d8ecc4e-46d9-4209-bca9-7d715f53941c"
      },
      "outputs": [
        {
          "output_type": "stream",
          "name": "stdout",
          "text": [
            "Total cost (Independent sourcing): 2294.42\n",
            "Total cost (Synchronized sourcing): 2769.89\n",
            "Total cost (Tailored aggregation): 3014.30\n"
          ]
        }
      ],
      "source": [
        "import numpy as np\n",
        "\n",
        "def compute_eoq(demand, ordering_cost, unit_cost, holding_cost_rate):\n",
        "    return np.sqrt((2 * demand * ordering_cost) / (unit_cost * holding_cost_rate))\n",
        "\n",
        "def compute_costs(demand, ordering_cost, unit_cost, holding_cost_rate, order_quantity):\n",
        "    order_frequency = demand / order_quantity\n",
        "    ordering_cost = order_frequency * ordering_cost\n",
        "    holding_cost = (order_quantity / 2) * unit_cost * holding_cost_rate\n",
        "    return ordering_cost + holding_cost\n",
        "\n",
        "# Given data\n",
        "data = [\n",
        "    {'demand': 1000, 'common_cost': 20, 'specific_cost': 50, 'unit_cost': 50},\n",
        "    {'demand': 300, 'common_cost': 25, 'specific_cost': 60, 'unit_cost': 60},\n",
        "    {'demand': 100, 'common_cost': 150, 'specific_cost': 30, 'unit_cost': 30},\n",
        "    {'demand': 50, 'common_cost': 50, 'specific_cost': 30, 'unit_cost': 30}\n",
        "]\n",
        "holding_cost_rate = 0.15\n",
        "\n",
        "# 1. Products are sourced independently\n",
        "independent_costs = []\n",
        "for product in data:\n",
        "    ordering_cost = product['common_cost'] + product['specific_cost']\n",
        "    eoq = compute_eoq(product['demand'], ordering_cost, product['unit_cost'], holding_cost_rate)\n",
        "    total_cost = compute_costs(product['demand'], ordering_cost, product['unit_cost'], holding_cost_rate, eoq)\n",
        "    independent_costs.append(total_cost)\n",
        "\n",
        "total_independent_cost = sum(independent_costs)\n",
        "\n",
        "# 2. All products are sourced with the same frequency (synchronized ordering)\n",
        "common_ordering_cost = sum(p['common_cost'] for p in data)\n",
        "total_specific_cost = sum(p['specific_cost'] for p in data)\n",
        "total_ordering_cost = common_ordering_cost + total_specific_cost\n",
        "\n",
        "total_demand = sum(p['demand'] for p in data)\n",
        "average_unit_cost = np.mean([p['unit_cost'] for p in data])\n",
        "\n",
        "synchronized_eoq = compute_eoq(total_demand, total_ordering_cost, average_unit_cost, holding_cost_rate)\n",
        "total_synchronized_cost = compute_costs(total_demand, total_ordering_cost, average_unit_cost, holding_cost_rate, synchronized_eoq)\n",
        "\n",
        "# 3. Tailored aggregation strategy\n",
        "# Assigning order frequencies based on relative demand proportions\n",
        "scaling_factors = [p['demand'] / total_demand for p in data]\n",
        "tailored_costs = []\n",
        "\n",
        "for i, product in enumerate(data):\n",
        "    tailored_eoq = synchronized_eoq * scaling_factors[i]\n",
        "    ordering_cost = product['common_cost'] + product['specific_cost']\n",
        "    total_cost = compute_costs(product['demand'], ordering_cost, product['unit_cost'], holding_cost_rate, tailored_eoq)\n",
        "    tailored_costs.append(total_cost)\n",
        "\n",
        "total_tailored_cost = sum(tailored_costs)\n",
        "\n",
        "# Display results\n",
        "print(f\"Total cost (Independent sourcing): {total_independent_cost:.2f}\")\n",
        "print(f\"Total cost (Synchronized sourcing): {total_synchronized_cost:.2f}\")\n",
        "print(f\"Total cost (Tailored aggregation): {total_tailored_cost:.2f}\")\n"
      ]
    }
  ]
}